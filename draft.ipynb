{
 "cells": [
  {
   "cell_type": "code",
   "execution_count": null,
   "metadata": {},
   "outputs": [],
   "source": [
    "import pickle\n",
    "import os\n",
    "import json\n",
    "import numpy as np\n",
    "import matplotlib.pyplot as plt\n",
    "\n",
    "root_dir = \".\"\n",
    "results_sst2 = {}\n",
    "for result_id in os.listdir(f\"{root_dir}/results/train_test\"):\n",
    "    with open(f\"{root_dir}/results/train_test/{result_id}/config.json\", \"rb\") as f:\n",
    "        config = json.load(f)\n",
    "    if config[\"dataset\"] == \"sst2\":\n",
    "        with open(f\"{root_dir}/results/train_test/{result_id}/train.pkl\", \"rb\") as f:\n",
    "            train_results = pickle.load(f)\n",
    "        with open(f\"{root_dir}/results/train_test/{result_id}/test.pkl\", \"rb\") as f:\n",
    "            test_results = pickle.load(f)\n",
    "        results_sst2[config[\"random_state\"]] = (train_results, test_results)\n",
    "\n",
    "train_priors = []\n",
    "test_priors = []\n",
    "for random_state, (train_results, test_results) in results_sst2.items():\n",
    "    rs = np.random.RandomState(random_state)\n",
    "    train_labels = train_results[\"train_labels\"]\n",
    "    test_labels = test_results[\"test_labels\"]\n",
    "    train_idx = rs.choice(len(train_labels), 400, replace=False)\n",
    "    train_subsample_labels = train_labels[train_idx]\n",
    "    train_priors.append(train_subsample_labels.sum() / len(train_subsample_labels))\n",
    "    test_priors.append(test_labels.sum() / len(test_labels))\n",
    "\n",
    "fig, ax = plt.subplots(2,1,sharex=True)\n",
    "ax[0].hist(train_priors, bins=20)\n",
    "ax[0].grid(True)\n",
    "ax[0].set_title(\"Train priors distribution\")\n",
    "ax[1].hist(test_priors, bins=20)\n",
    "ax[1].grid(True)\n",
    "ax[1].set_title(\"Test priors distribution\")\n",
    "print(np.min(train_priors), np.min(test_priors))\n",
    "print(np.max(train_priors), np.max(test_priors))"
   ]
  }
 ],
 "metadata": {
  "kernelspec": {
   "display_name": "reestimation",
   "language": "python",
   "name": "python3"
  },
  "language_info": {
   "name": "python",
   "version": "3.10.11"
  },
  "orig_nbformat": 4
 },
 "nbformat": 4,
 "nbformat_minor": 2
}
